{
 "cells": [
  {
   "cell_type": "markdown",
   "metadata": {},
   "source": [
    "Sayı tahmin oyunu\n",
    "* Random modülü ile bir sayı alınır\n",
    "* guess adında bir fonksiyon yazılacak\n",
    "* input ile kullanıcıdan tahminde bulunması istenip ardından yönlendirmeler yapılacak"
   ]
  },
  {
   "cell_type": "code",
   "execution_count": 3,
   "metadata": {},
   "outputs": [
    {
     "name": "stdout",
     "output_type": "stream",
     "text": [
      "üzgünüm, daha büyük bir tahminde bulunmalısın.\n",
      "üzgünüm, daha küçük bir tahminde bulunmalısın.\n",
      "üzgünüm, daha küçük bir tahminde bulunmalısın.\n",
      "üzgünüm, daha büyük bir tahminde bulunmalısın.\n",
      "üzgünüm, daha büyük bir tahminde bulunmalısın.\n",
      "üzgünüm, daha büyük bir tahminde bulunmalısın.\n",
      "üzgünüm, daha büyük bir tahminde bulunmalısın.\n",
      "üzgünüm, daha küçük bir tahminde bulunmalısın.\n",
      "üzgünüm, daha küçük bir tahminde bulunmalısın.\n",
      "üzgünüm, daha küçük bir tahminde bulunmalısın.\n",
      "üzgünüm, daha küçük bir tahminde bulunmalısın.\n",
      "üzgünüm, daha küçük bir tahminde bulunmalısın.\n",
      "üzgünüm, daha küçük bir tahminde bulunmalısın.\n",
      "Tebrikler, doğru tahmin!\n"
     ]
    }
   ],
   "source": [
    "from random import randint\n",
    "\n",
    "def guess(number):\n",
    "    user_number = int(input(\"Sayı tahmin oyunu için 1-100 arasında bir tahminde bulun\"))\n",
    "    while number != user_number:\n",
    "        if number < user_number:\n",
    "            print(\"üzgünüm, daha küçük bir tahminde bulunmalısın.\")\n",
    "        else: \n",
    "            print(\"üzgünüm, daha büyük bir tahminde bulunmalısın.\")\n",
    "\n",
    "        user_number = int(input(\"Lütfen, yeniden bir tahminde bulunun.\"))\n",
    "    else:\n",
    "        print(\"Tebrikler, doğru tahmin!\")\n",
    "    \n",
    "guess(randint(1, 100))"
   ]
  }
 ],
 "metadata": {
  "kernelspec": {
   "display_name": "Python 3.10.7 64-bit (microsoft store)",
   "language": "python",
   "name": "python3"
  },
  "language_info": {
   "codemirror_mode": {
    "name": "ipython",
    "version": 3
   },
   "file_extension": ".py",
   "mimetype": "text/x-python",
   "name": "python",
   "nbconvert_exporter": "python",
   "pygments_lexer": "ipython3",
   "version": "3.10.7"
  },
  "orig_nbformat": 4,
  "vscode": {
   "interpreter": {
    "hash": "5ee8566cd02fc12b012a18b99b3a82438b9e224a90e590f4237ed03c182601f5"
   }
  }
 },
 "nbformat": 4,
 "nbformat_minor": 2
}
