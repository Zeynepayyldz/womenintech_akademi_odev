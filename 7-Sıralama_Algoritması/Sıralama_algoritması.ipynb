{
 "cells": [
  {
   "cell_type": "markdown",
   "metadata": {},
   "source": [
    "3-Soru : Sıralama Algoritması yaz"
   ]
  },
  {
   "cell_type": "code",
   "execution_count": 1,
   "metadata": {},
   "outputs": [
    {
     "name": "stdout",
     "output_type": "stream",
     "text": [
      "[2, 4, 5, 7, 8, 9]\n"
     ]
    }
   ],
   "source": [
    "my_list = [8, 7, 2, 5, 9, 4]\n",
    "new_list = []\n",
    "for i in range(1, len(my_list)):\n",
    "\n",
    "    sayı = my_list[i]\n",
    "\n",
    "\n",
    "    k=1\n",
    "    while sayı - my_list[i-k] < 0 and i-k>=0:\n",
    "        my_list[i-k+1]=my_list[i-k]\n",
    "        k+=1\n",
    "    \n",
    "    my_list[i-k+1]=sayı\n",
    "\n",
    "    \n",
    "\n",
    "print(my_list) \n"
   ]
  }
 ],
 "metadata": {
  "kernelspec": {
   "display_name": "Python 3.10.8 64-bit (microsoft store)",
   "language": "python",
   "name": "python3"
  },
  "language_info": {
   "codemirror_mode": {
    "name": "ipython",
    "version": 3
   },
   "file_extension": ".py",
   "mimetype": "text/x-python",
   "name": "python",
   "nbconvert_exporter": "python",
   "pygments_lexer": "ipython3",
   "version": "3.10.8"
  },
  "orig_nbformat": 4,
  "vscode": {
   "interpreter": {
    "hash": "5ee8566cd02fc12b012a18b99b3a82438b9e224a90e590f4237ed03c182601f5"
   }
  }
 },
 "nbformat": 4,
 "nbformat_minor": 2
}
