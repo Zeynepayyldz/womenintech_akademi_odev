{
 "cells": [
  {
   "cell_type": "markdown",
   "metadata": {},
   "source": [
    "1-Soru : 0'dan 100'e kadar karışık sırada sayı tutan bir listenizin olduğunu düşünün. Bu liste içerisinde n tane sayı eksik. n ve eksik sayıları bulunuz.\n",
    "\n",
    "Örnek:my_list = [0, 7, 5, 8, 2] -> 0-10 arasında toplamda 6 adet sayı eksiktir.Eksik olan sayılar [1, 3, 4, 6, 9, 10]"
   ]
  },
  {
   "cell_type": "code",
   "execution_count": 2,
   "metadata": {},
   "outputs": [
    {
     "name": "stdout",
     "output_type": "stream",
     "text": [
      "[9, 66, 58, 67, 21, 25, 63, 96, 74, 0, 78, 8, 12, 76, 83]\n",
      "0 ile 10 sayıları arasında toplamda 15 adet sayı eksiktir.Eksik olan sayılar:  [9, 66, 58, 67, 21, 25, 63, 96, 74, 0, 78, 8, 12, 76, 83]\n"
     ]
    }
   ],
   "source": [
    "import random\n",
    "\n",
    "my_list = [i for i in range(0, 101)]\n",
    "\n",
    "\n",
    "liste = random.sample(my_list, 15)\n",
    "print(liste)\n",
    "\n",
    "for i in liste:\n",
    "    my_list.remove(i)\n",
    "\n",
    "\n",
    "print(f\"{0} ile {10} sayıları arasında toplamda {len(liste)} adet sayı eksiktir.Eksik olan sayılar: \", liste)"
   ]
  }
 ],
 "metadata": {
  "kernelspec": {
   "display_name": "Python 3.10.8 64-bit (microsoft store)",
   "language": "python",
   "name": "python3"
  },
  "language_info": {
   "codemirror_mode": {
    "name": "ipython",
    "version": 3
   },
   "file_extension": ".py",
   "mimetype": "text/x-python",
   "name": "python",
   "nbconvert_exporter": "python",
   "pygments_lexer": "ipython3",
   "version": "3.10.8"
  },
  "orig_nbformat": 4,
  "vscode": {
   "interpreter": {
    "hash": "5ee8566cd02fc12b012a18b99b3a82438b9e224a90e590f4237ed03c182601f5"
   }
  }
 },
 "nbformat": 4,
 "nbformat_minor": 2
}
