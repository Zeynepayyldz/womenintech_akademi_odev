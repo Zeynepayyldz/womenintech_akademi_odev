{
 "cells": [
  {
   "cell_type": "markdown",
   "metadata": {},
   "source": [
    "1-Soru : 0'dan 100'e kadar karışık sırada sayı tutan bir listenizin olduğunu düşünün. Bu liste içerisinde n tane sayı eksik. n ve eksik sayıları bulunuz.\n",
    "\n",
    "Örnek:my_list = [0, 7, 5, 8, 2] -> 0-10 arasında toplamda 6 adet sayı eksiktir.Eksik olan sayılar [1, 3, 4, 6, 9, 10]"
   ]
  },
  {
   "cell_type": "code",
   "execution_count": 1,
   "metadata": {},
   "outputs": [
    {
     "name": "stdout",
     "output_type": "stream",
     "text": [
      "[15, 47, 18, 17, 62, 75, 81, 88, 99, 86, 12, 64, 73, 43, 66]\n",
      "[69, 20, 38, 5, 24, 4, 95, 61, 14, 29, 74, 79, 70, 63, 55, 50, 77, 19, 21, 68, 44, 3, 32, 28, 10, 46, 97, 72, 78, 40, 7, 92, 31, 89, 42, 1, 93, 26, 76, 56, 58, 9, 39, 82, 35, 52, 65, 11, 51, 49, 25, 54, 13, 16, 96, 59, 27, 22, 94, 90, 71, 36, 8, 83, 84, 48, 41, 60, 67, 100, 0, 87, 23, 98, 85, 91, 33, 30, 34, 53, 37, 57, 45, 2, 80, 6]\n",
      "0 ile 10 sayıları arasında toplamda 15 adet sayı eksiktir.Eksik olan sayılar:  [15, 47, 18, 17, 62, 75, 81, 88, 99, 86, 12, 64, 73, 43, 66]\n"
     ]
    }
   ],
   "source": [
    "import random\n",
    "\n",
    "my_list = [i for i in range(0, 101)]\n",
    "random.shuffle(my_list)\n",
    "\n",
    "liste = random.sample(my_list, 15)\n",
    "print(liste)\n",
    "\n",
    "for i in liste:\n",
    "    my_list.remove(i)\n",
    "\n",
    "print(my_list)\n",
    "\n",
    "print(f\"{0} ile {10} sayıları arasında toplamda {len(liste)} adet sayı eksiktir.Eksik olan sayılar: \", liste)"
   ]
  }
 ],
 "metadata": {
  "kernelspec": {
   "display_name": "Python 3.10.8 64-bit (microsoft store)",
   "language": "python",
   "name": "python3"
  },
  "language_info": {
   "codemirror_mode": {
    "name": "ipython",
    "version": 3
   },
   "file_extension": ".py",
   "mimetype": "text/x-python",
   "name": "python",
   "nbconvert_exporter": "python",
   "pygments_lexer": "ipython3",
   "version": "3.10.8"
  },
  "orig_nbformat": 4,
  "vscode": {
   "interpreter": {
    "hash": "5ee8566cd02fc12b012a18b99b3a82438b9e224a90e590f4237ed03c182601f5"
   }
  }
 },
 "nbformat": 4,
 "nbformat_minor": 2
}
