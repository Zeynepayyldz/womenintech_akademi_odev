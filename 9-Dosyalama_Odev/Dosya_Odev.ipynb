{
 "cells": [
  {
   "cell_type": "code",
   "execution_count": 4,
   "metadata": {},
   "outputs": [],
   "source": [
    "import re\n",
    "import numpy as np\n",
    "Tr2Eng = str.maketrans(\"çğıöşü\", \"cgiosu\")\n",
    "\n",
    "def duplicate_dropper(data,method=\"manual\"):\n",
    "    if method==\"set\":\n",
    "        return list(set(data))\n",
    "    elif method==\"manual\":\n",
    "        removed_duplicates=[]\n",
    "        for dat in data:\n",
    "            try:\n",
    "                removed_duplicates.index(dat)\n",
    "            except:\n",
    "                removed_duplicates.append(dat)\n",
    "        return removed_duplicates\n",
    "    elif method==\"numpy\":\n",
    "        return list(np.unique(data))\n",
    "\n",
    "\n",
    "\n",
    "\n",
    "with open(r'C:\\Users\\Abdullah\\Desktop\\all_data.txt',\"r+\", encoding=\"utf-8\") as f:\n",
    "     lines = f.readlines()\n",
    "     bos=[]\n",
    "     for i in lines:\n",
    "          \n",
    "               text=i.replace(\"\\n\",\"\")\n",
    "               new_list=text.split(\".\")\n",
    "               bos+=new_list\n",
    "strc=\"\\n\".join(bos)\n",
    "res=re.sub(r'[^\\w\\s]',\"\",strc)\n",
    "lines2=res.split(\"\\n\")\n",
    "strings=[]\n",
    "digits=[]\n",
    "for line in lines2:\n",
    "     if line.replace(\" \",\"\").isdigit():\n",
    "          digits.append(line)\n",
    "     else:\n",
    "          strings.append(line)\n",
    "\n",
    "\n",
    "\n",
    "strings_unique=duplicate_dropper(strings,method=\"set\")\n",
    "digits_unique=duplicate_dropper(digits,method=\"set\")\n",
    "\n",
    "\n",
    "with open(r'C:\\Users\\Abdullah\\Desktop\\txt_strings.txt',\"w\", encoding=\"utf-8\") as f:\n",
    "     f.write((\"\\n\".join(strings_unique)).lower().translate(Tr2Eng))\n",
    "with open(r'C:\\Users\\Abdullah\\Desktop\\txt_numbers.txt',\"w\", encoding=\"utf-8\") as f:\n",
    "     f.write((\"\\n\".join(digits_unique)).lower().translate(Tr2Eng))\n",
    "\n",
    "               \n",
    "          "
   ]
  },
  {
   "cell_type": "code",
   "execution_count": null,
   "metadata": {},
   "outputs": [],
   "source": []
  }
 ],
 "metadata": {
  "kernelspec": {
   "display_name": "Python 3.10.8 64-bit (microsoft store)",
   "language": "python",
   "name": "python3"
  },
  "language_info": {
   "codemirror_mode": {
    "name": "ipython",
    "version": 3
   },
   "file_extension": ".py",
   "mimetype": "text/x-python",
   "name": "python",
   "nbconvert_exporter": "python",
   "pygments_lexer": "ipython3",
   "version": "3.10.8"
  },
  "orig_nbformat": 4,
  "vscode": {
   "interpreter": {
    "hash": "5ee8566cd02fc12b012a18b99b3a82438b9e224a90e590f4237ed03c182601f5"
   }
  }
 },
 "nbformat": 4,
 "nbformat_minor": 2
}
