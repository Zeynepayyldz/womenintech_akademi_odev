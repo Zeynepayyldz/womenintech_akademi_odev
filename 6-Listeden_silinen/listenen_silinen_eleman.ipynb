{
 "cells": [
  {
   "cell_type": "markdown",
   "metadata": {},
   "source": [
    "2-Soru : 0'dan 100'e kadar karışık sırada sayı tutan bir listenizin olduğunu düşünün. Bu liste içerisinde bu defa n tane sayı yerine 1 adet sayı eksik. Eksik olan sayıyı bulunuz."
   ]
  },
  {
   "cell_type": "code",
   "execution_count": 1,
   "metadata": {},
   "outputs": [
    {
     "name": "stdout",
     "output_type": "stream",
     "text": [
      "Listeniz içerisinde 1 adet sayı eksik, eksik olan bu sayı 78\n"
     ]
    }
   ],
   "source": [
    "import random\n",
    "\n",
    "my_list = [i for i in range(0, 101)]\n",
    "random.shuffle(my_list)\n",
    "liste = random.choice(my_list)\n",
    "del my_list[liste]\n",
    "print(f\"Listeniz içerisinde {1} adet sayı eksik, eksik olan bu sayı {liste}\")"
   ]
  }
 ],
 "metadata": {
  "kernelspec": {
   "display_name": "Python 3.10.8 64-bit (microsoft store)",
   "language": "python",
   "name": "python3"
  },
  "language_info": {
   "codemirror_mode": {
    "name": "ipython",
    "version": 3
   },
   "file_extension": ".py",
   "mimetype": "text/x-python",
   "name": "python",
   "nbconvert_exporter": "python",
   "pygments_lexer": "ipython3",
   "version": "3.10.8"
  },
  "orig_nbformat": 4,
  "vscode": {
   "interpreter": {
    "hash": "5ee8566cd02fc12b012a18b99b3a82438b9e224a90e590f4237ed03c182601f5"
   }
  }
 },
 "nbformat": 4,
 "nbformat_minor": 2
}
