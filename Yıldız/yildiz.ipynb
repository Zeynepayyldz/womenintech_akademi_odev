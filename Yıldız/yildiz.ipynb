{
 "cells": [
  {
   "cell_type": "code",
   "execution_count": null,
   "metadata": {},
   "outputs": [],
   "source": [
    "#yıldız ödevi 1\n",
    "number = 5\n",
    "for i in range (number):  \n",
    "  for j in range (i + 1): \n",
    "    print (\"*\", end=\" \") \n",
    "  print()"
   ]
  },
  {
   "cell_type": "code",
   "execution_count": null,
   "metadata": {},
   "outputs": [],
   "source": [
    "#yıldız ödevi 2\n",
    "number = 5\n",
    "for i in range(number):\n",
    "  for j in range(number-i):\n",
    "    print(\"*\", end=\" \")\n",
    "  print()"
   ]
  },
  {
   "cell_type": "code",
   "execution_count": null,
   "metadata": {},
   "outputs": [],
   "source": [
    "#yıldız ödevi 3\n",
    "number = 5\n",
    "for i in range(number+1):\n",
    "  print((number+1-i)*\" \", end=\"\")\n",
    "  \n",
    "  for j in range(i):\n",
    "    print(\"*\", end=\"\")\n",
    "  print()"
   ]
  },
  {
   "cell_type": "code",
   "execution_count": null,
   "metadata": {},
   "outputs": [],
   "source": [
    "#yıldız ödevi 4\n",
    "number = 5\n",
    "for i in range (number):\n",
    "  print((i)*\" \", end=\"\")\n",
    "  for j in range(number-i):\n",
    "    print(\"*\", end=\"\")\n",
    "  print()\n"
   ]
  },
  {
   "cell_type": "code",
   "execution_count": null,
   "metadata": {},
   "outputs": [],
   "source": [
    "#yıldız ödevi 5\n",
    "number = 5\n",
    "for i in range(1,number+1):\n",
    "  print((number-i)*\" \", end=\"\")\n",
    "  for j in range(2*i):\n",
    "    print(\"*\", end=\"\")\n",
    "  print()"
   ]
  },
  {
   "cell_type": "code",
   "execution_count": null,
   "metadata": {},
   "outputs": [],
   "source": [
    "#yıldız ödevi 6\n",
    "number = 5\n",
    "for i in range (number):\n",
    "  print(i*(\" \"),end=\"\")\n",
    "  for j in range (2*number-2*i):\n",
    "    \n",
    "    print((\"*\"), end=\"\")\n",
    "  print()"
   ]
  },
  {
   "cell_type": "code",
   "execution_count": null,
   "metadata": {},
   "outputs": [],
   "source": [
    "#yıldız ödevi 7\n",
    "sayı=5\n",
    "for i in range(sayı+1):\n",
    "  p1=i\n",
    "  p2=-2+(2*(sayı+1))-2*i\n",
    "  p3=i\n",
    "  print(p1*\"*\"+p2*\" \"+p3*\"*\")"
   ]
  }
 ],
 "metadata": {
  "kernelspec": {
   "display_name": "Python 3.10.7 64-bit (microsoft store)",
   "language": "python",
   "name": "python3"
  },
  "language_info": {
   "name": "python",
   "version": "3.10.7"
  },
  "orig_nbformat": 4,
  "vscode": {
   "interpreter": {
    "hash": "5ee8566cd02fc12b012a18b99b3a82438b9e224a90e590f4237ed03c182601f5"
   }
  }
 },
 "nbformat": 4,
 "nbformat_minor": 2
}
